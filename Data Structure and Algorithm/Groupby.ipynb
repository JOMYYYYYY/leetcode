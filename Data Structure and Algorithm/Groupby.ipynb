{
 "cells": [
  {
   "cell_type": "markdown",
   "id": "5a218917",
   "metadata": {},
   "source": [
    "# groupby"
   ]
  },
  {
   "cell_type": "code",
   "execution_count": 1,
   "id": "9b16c251",
   "metadata": {},
   "outputs": [
    {
     "name": "stdout",
     "output_type": "stream",
     "text": [
      "['aa', 'bb', 'ccc']\n"
     ]
    }
   ],
   "source": [
    "from itertools import groupby\n",
    "\n",
    "lst = [\"a\",\"a\",\"b\",\"b\",\"c\",\"c\",\"c\"]\n",
    "\n",
    "result = [\"\".join(group) for _, group in groupby(lst)]\n",
    "print(result)  # ['aa', 'bb', 'ccc']\n"
   ]
  },
  {
   "cell_type": "code",
   "execution_count": 2,
   "id": "477ac98b",
   "metadata": {},
   "outputs": [
    {
     "name": "stdout",
     "output_type": "stream",
     "text": [
      "1 [1, 1]\n",
      "2 [2, 2, 2]\n",
      "3 [3]\n",
      "1 [1, 1]\n"
     ]
    }
   ],
   "source": [
    "from itertools import groupby\n",
    "\n",
    "data = [1, 1, 2, 2, 2, 3, 1, 1]\n",
    "\n",
    "for key, group in groupby(data):\n",
    "    print(key, list(group))\n",
    "# 输出：\n",
    "# 1 [1, 1]\n",
    "# 2 [2, 2, 2]\n",
    "# 3 [3]\n",
    "# 1 [1, 1]\n"
   ]
  },
  {
   "cell_type": "code",
   "execution_count": 3,
   "id": "a93d3d3c",
   "metadata": {},
   "outputs": [
    {
     "name": "stdout",
     "output_type": "stream",
     "text": [
      "a ['apple', 'apricot', 'avocado']\n",
      "b ['banana', 'blueberry']\n"
     ]
    }
   ],
   "source": [
    "data = [\"apple\", \"banana\", \"apricot\", \"blueberry\", \"avocado\"]\n",
    "\n",
    "# 按首字母分组（注意要先排序）\n",
    "data.sort(key=lambda x: x[0])\n",
    "\n",
    "for key, group in groupby(data, key=lambda x: x[0]):\n",
    "    print(key, list(group))"
   ]
  }
 ],
 "metadata": {
  "kernelspec": {
   "display_name": "Python 3",
   "language": "python",
   "name": "python3"
  },
  "language_info": {
   "codemirror_mode": {
    "name": "ipython",
    "version": 3
   },
   "file_extension": ".py",
   "mimetype": "text/x-python",
   "name": "python",
   "nbconvert_exporter": "python",
   "pygments_lexer": "ipython3",
   "version": "3.12.3"
  }
 },
 "nbformat": 4,
 "nbformat_minor": 5
}
