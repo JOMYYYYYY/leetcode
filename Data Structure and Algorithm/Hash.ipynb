{
 "cells": [
  {
   "cell_type": "code",
   "execution_count": 7,
   "id": "d600ab78",
   "metadata": {},
   "outputs": [
    {
     "name": "stdout",
     "output_type": "stream",
     "text": [
      "5d41402abc4b2a76b9719d911017c592\n"
     ]
    }
   ],
   "source": [
    "import hashlib\n",
    "\n",
    "# 需要把字符串编码成 bytes\n",
    "md5_hash = hashlib.md5(\"hello\".encode('utf-8')).hexdigest()\n",
    "\n",
    "print(md5_hash)  # 输出: 5d41402abc4b2a76b9719d911017c592"
   ]
  },
  {
   "cell_type": "code",
   "execution_count": 8,
   "id": "4b5d3489",
   "metadata": {},
   "outputs": [
    {
     "name": "stdout",
     "output_type": "stream",
     "text": [
      "2cf24dba5fb0a30e26e83b2ac5b9e29e1b161e5c1fa7425e73043362938b9824\n"
     ]
    }
   ],
   "source": [
    "sha256_hash = hashlib.sha256(\"hello\".encode('utf-8')).hexdigest()\n",
    "print(sha256_hash)"
   ]
  }
 ],
 "metadata": {
  "kernelspec": {
   "display_name": "Python 3",
   "language": "python",
   "name": "python3"
  },
  "language_info": {
   "codemirror_mode": {
    "name": "ipython",
    "version": 3
   },
   "file_extension": ".py",
   "mimetype": "text/x-python",
   "name": "python",
   "nbconvert_exporter": "python",
   "pygments_lexer": "ipython3",
   "version": "3.12.3"
  }
 },
 "nbformat": 4,
 "nbformat_minor": 5
}
