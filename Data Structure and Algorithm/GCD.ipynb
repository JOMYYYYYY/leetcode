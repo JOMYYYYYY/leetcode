{
 "cells": [
  {
   "cell_type": "code",
   "execution_count": 6,
   "id": "69ccd1d7",
   "metadata": {},
   "outputs": [
    {
     "name": "stdout",
     "output_type": "stream",
     "text": [
      "14\n"
     ]
    }
   ],
   "source": [
    "def gcd(a: int, b: int) -> int:\n",
    "    while b != 0:\n",
    "        a, b = b, a % b \n",
    "    \n",
    "    return a \n",
    "\n",
    "print(gcd(56, 98))  # 输出 14"
   ]
  },
  {
   "cell_type": "code",
   "execution_count": null,
   "id": "45b3b347",
   "metadata": {},
   "outputs": [],
   "source": []
  }
 ],
 "metadata": {
  "kernelspec": {
   "display_name": "Python 3",
   "language": "python",
   "name": "python3"
  },
  "language_info": {
   "codemirror_mode": {
    "name": "ipython",
    "version": 3
   },
   "file_extension": ".py",
   "mimetype": "text/x-python",
   "name": "python",
   "nbconvert_exporter": "python",
   "pygments_lexer": "ipython3",
   "version": "3.12.3"
  }
 },
 "nbformat": 4,
 "nbformat_minor": 5
}
