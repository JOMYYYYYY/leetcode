{
 "cells": [
  {
   "cell_type": "markdown",
   "id": "97ccebee",
   "metadata": {},
   "source": [
    "# Introduce"
   ]
  },
  {
   "cell_type": "markdown",
   "id": "95b8c14b",
   "metadata": {},
   "source": [
    "### Example 0\n",
    "\n",
    "Given a list of numbers, return the sum of the numbers"
   ]
  },
  {
   "cell_type": "code",
   "execution_count": null,
   "id": "c4130472",
   "metadata": {},
   "outputs": [],
   "source": [
    "def listsum(numList):\n",
    "    theSum = 0\n",
    "    for i in numList:\n",
    "        theSum += i \n",
    "    return theSum\n",
    "\n",
    "print(listsum([1,3,5,7,9]))"
   ]
  },
  {
   "cell_type": "markdown",
   "id": "28923632",
   "metadata": {},
   "source": [
    "We can think the problem in another way which is that the sum of the number in the list is equal to the sum of the first number in the list plus the sum of the number in the rest of the list."
   ]
  },
  {
   "cell_type": "code",
   "execution_count": null,
   "id": "18217fcc",
   "metadata": {},
   "outputs": [],
   "source": [
    "def listsum(numList):\n",
    "    if len(numList) == 1:\n",
    "        return numList[0]\n",
    "    else:\n",
    "        return numList[0] + listsum(numList[1: ])\n",
    "\n",
    "print(listsum([1,3,5,7,9]))"
   ]
  },
  {
   "cell_type": "markdown",
   "id": "d7b5c16f",
   "metadata": {},
   "source": [
    "### There are two key points:\n",
    "\n",
    "- The problem can be decomposed as the same kind of problem but in a smaller scale while invoking the method itself.\n",
    "- The method is quite straightforward when it comes to the smallest problem in the scale.\n",
    "\n",
    "### Three Laws of Recursion\n",
    "\n",
    "1. There must be one basic end condition.\n",
    "2. The algorithm must be able to change its condition towards the basic end condition.\n",
    "3. The algorithm must be able to invoke itself."
   ]
  },
  {
   "cell_type": "markdown",
   "id": "9ecd17a6",
   "metadata": {},
   "source": [
    "## Example 1: Conversion of number systems"
   ]
  },
  {
   "cell_type": "code",
   "execution_count": null,
   "id": "0a8e83a1",
   "metadata": {},
   "outputs": [],
   "source": [
    "def toStr(n, base):\n",
    "    convertingString = \"0123456789ABCDEF\"\n",
    "    if n < base:\n",
    "        return convertingString[n]\n",
    "    else:\n",
    "        return toStr(n // base, base) + convertingString[n % base]\n",
    "\n",
    "print(1234, 10)\n",
    "print(1453, 16)"
   ]
  },
  {
   "cell_type": "markdown",
   "id": "763aab38",
   "metadata": {},
   "source": [
    "### Ajust the max recursion times"
   ]
  },
  {
   "cell_type": "code",
   "execution_count": null,
   "id": "56a79070",
   "metadata": {},
   "outputs": [],
   "source": [
    "# Get the max recursion limit\n",
    "import sys\n",
    "\n",
    "print(f'The maxium recursion times is {sys.getrecursionlimit()}')\n",
    "sys.setrecursionlimit(2500)\n",
    "print(f'The maxium recursion times is {sys.getrecursionlimit()}')\n"
   ]
  },
  {
   "cell_type": "markdown",
   "id": "01ba9d07",
   "metadata": {},
   "source": [
    "## Recursion visualization"
   ]
  },
  {
   "cell_type": "code",
   "execution_count": null,
   "id": "760ed7fa",
   "metadata": {},
   "outputs": [],
   "source": [
    "import turtle\n",
    "\n",
    "t = turtle.Turtle()\n",
    "t.forward(100)\n",
    "\n",
    "turtle.done()"
   ]
  },
  {
   "cell_type": "code",
   "execution_count": null,
   "id": "7b6d5e69",
   "metadata": {},
   "outputs": [],
   "source": [
    "import turtle\n",
    "\n",
    "t = turtle.Turtle()\n",
    "\n",
    "for i in range(4):\n",
    "    t.forward(100)\n",
    "    t.right(90)\n",
    "\n",
    "turtle.done()"
   ]
  },
  {
   "cell_type": "code",
   "execution_count": null,
   "id": "da2aee2e",
   "metadata": {},
   "outputs": [],
   "source": [
    "import turtle\n",
    "\n",
    "t = turtle.Turtle()\n",
    "\n",
    "for i in range(4):\n",
    "    t.forward(100)\n",
    "    t.right(90)\n",
    "\n",
    "turtle.done()"
   ]
  },
  {
   "cell_type": "code",
   "execution_count": null,
   "id": "d9dc9494",
   "metadata": {},
   "outputs": [],
   "source": [
    "import turtle\n",
    "\n",
    "t = turtle.Turtle()\n",
    "t.pencolor('red')\n",
    "t.pensize(3)\n",
    "\n",
    "for i in range(5):\n",
    "    t.forward(100)\n",
    "    t.right(144)\n",
    "\n",
    "t.hideturtle()\n",
    "\n",
    "turtle.done()"
   ]
  },
  {
   "cell_type": "markdown",
   "id": "6558a044",
   "metadata": {},
   "source": [
    "### Draw spiral"
   ]
  },
  {
   "cell_type": "code",
   "execution_count": null,
   "id": "318cd2a1",
   "metadata": {},
   "outputs": [],
   "source": [
    "import turtle\n",
    "\n",
    "t = turtle.Turtle()\n",
    "\n",
    "def drawSpiral(t, lineLength):\n",
    "    if lineLength > 0:\n",
    "        t.forward(lineLength)\n",
    "        t.right(50)\n",
    "        drawSpiral(t, lineLength-0.4)\n",
    "\n",
    "drawSpiral(t, 160)\n",
    "\n",
    "t.hideturtle()\n",
    "turtle.done()"
   ]
  },
  {
   "cell_type": "markdown",
   "id": "16c2a84c",
   "metadata": {},
   "source": [
    "### Draw a tree"
   ]
  },
  {
   "cell_type": "code",
   "execution_count": null,
   "id": "402fef7e",
   "metadata": {},
   "outputs": [],
   "source": [
    "import turtle\n",
    "\n",
    "def tree(branch_len):\n",
    "    if branch_len > 5:\n",
    "        t.forward(branch_len)\n",
    "        t.right(20)\n",
    "        tree(branch_len-20)\n",
    "        t.left(40)\n",
    "        tree(branch_len-10)\n",
    "        t.right(20)\n",
    "        t.backward(branch_len)\n",
    "\n",
    "t = turtle.Turtle()\n",
    "t.left(90)\n",
    "\n",
    "t.penup()\n",
    "t.backward(100)\n",
    "t.pendown()\n",
    "\n",
    "t.color(\"green\")\n",
    "t.pensize(2)\n",
    "\n",
    "tree(90)\n",
    "\n",
    "t.hideturtle()\n",
    "turtle.done()"
   ]
  },
  {
   "cell_type": "markdown",
   "id": "6e2c93d2",
   "metadata": {},
   "source": [
    "### Sierpinski triangle"
   ]
  },
  {
   "cell_type": "code",
   "execution_count": 1,
   "id": "3acddb45",
   "metadata": {},
   "outputs": [],
   "source": [
    "import turtle\n",
    "\n",
    "def draw_triangle(points, color, my_turtle):\n",
    "    my_turtle.fillcolor(color)\n",
    "    my_turtle.penup()\n",
    "    my_turtle.goto(points[0][0], points[0][1])\n",
    "    my_turtle.pendown()\n",
    "    my_turtle.begin_fill()\n",
    "    my_turtle.goto(points[1][0], points[1][1])\n",
    "    my_turtle.goto(points[2][0], points[2][1])\n",
    "    my_turtle.goto(points[0][0], points[0][1])\n",
    "    my_turtle.end_fill()\n",
    "\n",
    "def get_midpoint(p1, p2):\n",
    "    return ((p1[0] + p2[0]) / 2, (p1[1] + p2[1]) / 2)\n",
    "\n",
    "def sierpinski(points, depth, my_turtle):\n",
    "    colors = ['blue', 'red', 'green', 'white', 'yellow', 'violet', 'orange']\n",
    "    draw_triangle(points, colors[depth % len(colors)], my_turtle)\n",
    "    if depth > 0:\n",
    "        sierpinski([points[0],\n",
    "                    get_midpoint(points[0], points[1]),\n",
    "                    get_midpoint(points[0], points[2])],\n",
    "                   depth - 1, my_turtle)\n",
    "        sierpinski([points[1],\n",
    "                    get_midpoint(points[0], points[1]),\n",
    "                    get_midpoint(points[1], points[2])],\n",
    "                   depth - 1, my_turtle)\n",
    "        sierpinski([points[2],\n",
    "                    get_midpoint(points[2], points[1]),\n",
    "                    get_midpoint(points[0], points[2])],\n",
    "                   depth - 1, my_turtle)\n",
    "\n",
    "# Set up screen\n",
    "my_turtle = turtle.Turtle()\n",
    "my_screen = turtle.Screen()\n",
    "my_screen.bgcolor(\"black\")\n",
    "my_turtle.speed(0)\n",
    "\n",
    "# Triangle vertices\n",
    "vertices = [[-200, -100], [0, 200], [200, -100]]\n",
    "\n",
    "# Draw Sierpinski triangle of depth 4\n",
    "sierpinski(vertices, 6, my_turtle)\n",
    "\n",
    "# Wait for user to close the window\n",
    "my_screen.exitonclick()\n"
   ]
  },
  {
   "cell_type": "markdown",
   "id": "afd03e18",
   "metadata": {},
   "source": [
    "## Example 2: Tower of Hanoi Problem"
   ]
  },
  {
   "cell_type": "markdown",
   "id": "9d63d613",
   "metadata": {},
   "source": []
  }
 ],
 "metadata": {
  "kernelspec": {
   "display_name": "Python 3",
   "language": "python",
   "name": "python3"
  },
  "language_info": {
   "codemirror_mode": {
    "name": "ipython",
    "version": 3
   },
   "file_extension": ".py",
   "mimetype": "text/x-python",
   "name": "python",
   "nbconvert_exporter": "python",
   "pygments_lexer": "ipython3",
   "version": "3.12.3"
  }
 },
 "nbformat": 4,
 "nbformat_minor": 5
}
