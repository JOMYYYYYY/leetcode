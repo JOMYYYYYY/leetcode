{
 "cells": [
  {
   "cell_type": "markdown",
   "id": "97ccebee",
   "metadata": {},
   "source": [
    "# Introduce"
   ]
  },
  {
   "cell_type": "markdown",
   "id": "95b8c14b",
   "metadata": {},
   "source": [
    "### Example 0\n",
    "\n",
    "Given a list of numbers, return the sum of the numbers"
   ]
  },
  {
   "cell_type": "code",
   "execution_count": 1,
   "id": "c4130472",
   "metadata": {},
   "outputs": [
    {
     "name": "stdout",
     "output_type": "stream",
     "text": [
      "25\n"
     ]
    }
   ],
   "source": [
    "def listsum(numList):\n",
    "    theSum = 0\n",
    "    for i in numList:\n",
    "        theSum += i \n",
    "    return theSum\n",
    "\n",
    "print(listsum([1,3,5,7,9]))"
   ]
  },
  {
   "cell_type": "markdown",
   "id": "28923632",
   "metadata": {},
   "source": [
    "We can think the problem in another way which is that the sum of the number in the list is equal to the sum of the first number in the list plus the sum of the number in the rest of the list."
   ]
  },
  {
   "cell_type": "code",
   "execution_count": 2,
   "id": "18217fcc",
   "metadata": {},
   "outputs": [
    {
     "name": "stdout",
     "output_type": "stream",
     "text": [
      "25\n"
     ]
    }
   ],
   "source": [
    "def listsum(numList):\n",
    "    if len(numList) == 1:\n",
    "        return numList[0]\n",
    "    else:\n",
    "        return numList[0] + listsum(numList[1: ])\n",
    "\n",
    "print(listsum([1,3,5,7,9]))"
   ]
  },
  {
   "cell_type": "markdown",
   "id": "d7b5c16f",
   "metadata": {},
   "source": [
    "### There are two key points:\n",
    "\n",
    "- The problem can be decomposed as the same kind of problem but in a smaller scale while invoking the method itself.\n",
    "- The method is quite straightforward when it comes to the smallest problem in the scale.\n",
    "\n",
    "### Three Laws of Recursion\n",
    "\n",
    "1. There must be one basic end condition.\n",
    "2. The algorithm must be able to change its condition towards the basic end condition.\n",
    "3. The algorithm must be able to invoke itself."
   ]
  },
  {
   "cell_type": "markdown",
   "id": "9ecd17a6",
   "metadata": {},
   "source": [
    "## Example 1: Conversion of number systems"
   ]
  },
  {
   "cell_type": "code",
   "execution_count": null,
   "id": "0a8e83a1",
   "metadata": {},
   "outputs": [],
   "source": []
  }
 ],
 "metadata": {
  "kernelspec": {
   "display_name": "Python 3",
   "language": "python",
   "name": "python3"
  },
  "language_info": {
   "codemirror_mode": {
    "name": "ipython",
    "version": 3
   },
   "file_extension": ".py",
   "mimetype": "text/x-python",
   "name": "python",
   "nbconvert_exporter": "python",
   "pygments_lexer": "ipython3",
   "version": "3.12.3"
  }
 },
 "nbformat": 4,
 "nbformat_minor": 5
}
