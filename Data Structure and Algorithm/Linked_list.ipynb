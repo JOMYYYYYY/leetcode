{
 "cells": [
  {
   "cell_type": "markdown",
   "id": "fb7e1a27",
   "metadata": {},
   "source": [
    "# To define a linked list in Python"
   ]
  },
  {
   "cell_type": "markdown",
   "id": "71db4c24",
   "metadata": {},
   "source": [
    "## The node class"
   ]
  },
  {
   "cell_type": "code",
   "execution_count": 3,
   "id": "71af0ec7",
   "metadata": {},
   "outputs": [],
   "source": [
    "# import modules\n",
    "from typing import Optional"
   ]
  },
  {
   "cell_type": "code",
   "execution_count": null,
   "id": "c2f46e6a",
   "metadata": {},
   "outputs": [],
   "source": [
    "class Node:\n",
    "    def __init__(self, data):\n",
    "        self.data = data\n",
    "        self.next: Optional[Node] = None  # This line of code means that the pointed next data type can be a Node or None and the default value would be None."
   ]
  },
  {
   "cell_type": "markdown",
   "id": "cabf089e",
   "metadata": {},
   "source": [
    "## The linked list class"
   ]
  },
  {
   "cell_type": "code",
   "execution_count": 8,
   "id": "98f6e864",
   "metadata": {},
   "outputs": [],
   "source": [
    "class LinkedList:\n",
    "    def __init__(self):\n",
    "        self.head = None\n",
    "    \n",
    "    def print_list(self):\n",
    "        '''Print the linked list.'''\n",
    "        cur_node = self.head\n",
    "        while cur_node:\n",
    "            print(cur_node.data, end=\" -> \")\n",
    "            cur_node = cur_node.next\n",
    "        print('None')\n",
    "\n",
    "    \n",
    "    def append(self, data):\n",
    "        '''Add a new node with the given data to the end of the linked list.'''\n",
    "        new_node = Node(data)\n",
    "        if self.head is None:\n",
    "            self.head = new_node\n",
    "            return\n",
    "        \n",
    "        last_node = self.head\n",
    "        while last_node.next:\n",
    "            last_node = last_node.next\n",
    "        last_node.next = new_node\n",
    "\n",
    "    \n",
    "    def prepend(self, data):\n",
    "        '''Add a new node with the given data to the beginning of the linked list.'''\n",
    "        new_node = Node(data)\n",
    "        new_node.next = self.head\n",
    "        self.head = new_node\n",
    "    \n",
    "\n",
    "    def insert_after_node(self, prev_node_data, data):\n",
    "        '''Add a new node with the given data after the given node data.''' \n",
    "        cur_node = self.head \n",
    "        while cur_node and cur_node.data != prev_node_data:\n",
    "            cur_node = cur_node.next\n",
    "        if cur_node is None:\n",
    "            print(\"Previous node is not found!\")\n",
    "            return\n",
    "        new_node = Node(data)\n",
    "        new_node.next = cur_node.next\n",
    "        cur_node.next = new_node\n",
    "        print(\"Node inserted!\")\n",
    "    \n",
    "\n",
    "    def delete_node(self, key):\n",
    "        '''Delete the node with the given key''' \n",
    "        cur_node = self.head\n",
    "        prev_node = None\n",
    "        while cur_node and cur_node.data != key:\n",
    "            prev_node = cur_node\n",
    "            cur_node = cur_node.next\n",
    "        \n",
    "        if cur_node is None:\n",
    "            print(f\"The node of {key} not found in the linked list.\")\n",
    "            return\n",
    "        \n",
    "        if prev_node is None: # The node we want to delete is the head node (the very first node of the list).\n",
    "            self.head = cur_node.next\n",
    "        else:\n",
    "            prev_node.next = cur_node.next\n",
    "    \n",
    "\n",
    "    def delete_at_position(self, position):\n",
    "        if self.head is None:\n",
    "            print(\"The linked list is empty.\")\n",
    "            return \n",
    "\n",
    "        current = self.head\n",
    "\n",
    "        # if the head need to be removed\n",
    "        if position == 0:\n",
    "            self.head = self.head.next\n",
    "        \n",
    "        prev: Optional[Node] = None\n",
    "        count = 0\n",
    "\n",
    "        while count < position and current:\n",
    "            prev = current\n",
    "            current = current.next\n",
    "            count += 1\n",
    "        \n",
    "        # if postion is greater than number of nodes\n",
    "        if current is None:\n",
    "            print(\"Position out of bounds.\")\n",
    "            return\n",
    "\n",
    "        # Remove the node\n",
    "        if prev is not None:\n",
    "            prev.next = current.next\n",
    "\n",
    "    \n",
    "    def search(self, key):\n",
    "        '''Return Ture if the key is inside one of the nodes, if not, return False.'''\n",
    "        current = self.head\n",
    "        while current:\n",
    "            if current.data == key:\n",
    "                return True\n",
    "            current = current.next\n",
    "        return False\n",
    "    \n",
    "\n",
    "    def length(self):\n",
    "        '''Return the length of the linked list.'''\n",
    "        count = 0\n",
    "        current = self.head\n",
    "        while current:\n",
    "            count += 1\n",
    "            current = current.next\n",
    "        return count\n",
    "    \n",
    "\n",
    "    def reverse(self):\n",
    "        current = self.head\n",
    "        prev = None\n",
    "        while current:\n",
    "            next_node = current.next\n",
    "            current.next = prev\n",
    "            prev = current\n",
    "            current = next_node\n",
    "        self.head = prev\n"
   ]
  },
  {
   "cell_type": "code",
   "execution_count": 17,
   "id": "6fa879ac",
   "metadata": {},
   "outputs": [
    {
     "name": "stdout",
     "output_type": "stream",
     "text": [
      "1 -> None\n",
      "1 -> 2 -> 3 -> 4 -> None\n",
      "Node inserted!\n",
      "1 -> 2 -> 2.5 -> 3 -> 4 -> None\n",
      "True\n",
      "False\n",
      "1 -> 2 -> 2.5 -> 4 -> None\n",
      "0.5 -> 1 -> 2 -> 2.5 -> 4 -> None\n",
      "0.5 -> 1 -> 2 -> 4 -> None\n",
      "Position out of bounds.\n",
      "0.5 -> 1 -> 2 -> 4 -> None\n",
      "4 -> 2 -> 1 -> 0.5 -> None\n",
      "4\n"
     ]
    }
   ],
   "source": [
    "linked_list = LinkedList()\n",
    "linked_list.append(1)\n",
    "linked_list.print_list()\n",
    "\n",
    "linked_list.append(2)\n",
    "linked_list.append(3)\n",
    "linked_list.append(4)\n",
    "linked_list.print_list()\n",
    "\n",
    "linked_list.insert_after_node(2, 2.5)\n",
    "linked_list.print_list()\n",
    "\n",
    "print(linked_list.search(4))\n",
    "print(linked_list.search(5))\n",
    "\n",
    "linked_list.delete_node(3)\n",
    "linked_list.print_list()\n",
    "\n",
    "linked_list.prepend(0.5)\n",
    "linked_list.print_list()\n",
    "\n",
    "linked_list.delete_at_position(3)\n",
    "linked_list.print_list()\n",
    "linked_list.delete_at_position(6)\n",
    "linked_list.print_list()\n",
    "\n",
    "linked_list.reverse()\n",
    "linked_list.print_list()\n",
    "\n",
    "print(linked_list.length())"
   ]
  },
  {
   "cell_type": "markdown",
   "id": "51565521",
   "metadata": {},
   "source": [
    "## Implementing a Stack with a Singly Linked List"
   ]
  },
  {
   "cell_type": "code",
   "execution_count": null,
   "id": "26565864",
   "metadata": {},
   "outputs": [],
   "source": []
  },
  {
   "cell_type": "code",
   "execution_count": null,
   "id": "9877c881",
   "metadata": {},
   "outputs": [],
   "source": []
  },
  {
   "cell_type": "code",
   "execution_count": null,
   "id": "1c732f31",
   "metadata": {},
   "outputs": [],
   "source": []
  },
  {
   "cell_type": "code",
   "execution_count": null,
   "id": "db6308a4",
   "metadata": {},
   "outputs": [],
   "source": []
  },
  {
   "cell_type": "markdown",
   "id": "64a8af53",
   "metadata": {},
   "source": [
    "## End"
   ]
  }
 ],
 "metadata": {
  "kernelspec": {
   "display_name": "Python 3",
   "language": "python",
   "name": "python3"
  },
  "language_info": {
   "codemirror_mode": {
    "name": "ipython",
    "version": 3
   },
   "file_extension": ".py",
   "mimetype": "text/x-python",
   "name": "python",
   "nbconvert_exporter": "python",
   "pygments_lexer": "ipython3",
   "version": "3.12.3"
  }
 },
 "nbformat": 4,
 "nbformat_minor": 5
}
