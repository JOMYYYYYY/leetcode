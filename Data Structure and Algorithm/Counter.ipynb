{
 "cells": [
  {
   "cell_type": "markdown",
   "id": "6d05a114",
   "metadata": {},
   "source": [
    "### collections.Counter —— 自动统计计数"
   ]
  },
  {
   "cell_type": "code",
   "execution_count": 1,
   "id": "de656183",
   "metadata": {},
   "outputs": [
    {
     "name": "stdout",
     "output_type": "stream",
     "text": [
      "Counter({'a': 3, 'b': 1})\n"
     ]
    }
   ],
   "source": [
    "from collections import Counter\n",
    "\n",
    "c = Counter()\n",
    "c['a'] += 1\n",
    "c.update(['a', 'b', 'a'])  # 批量更新计数\n",
    "print(c)  # Counter({'a': 3, 'b': 1})\n"
   ]
  },
  {
   "cell_type": "markdown",
   "id": "15b110a7",
   "metadata": {},
   "source": [
    "### 词频统计"
   ]
  },
  {
   "cell_type": "code",
   "execution_count": 2,
   "id": "e9ea84e6",
   "metadata": {},
   "outputs": [
    {
     "name": "stdout",
     "output_type": "stream",
     "text": [
      "Counter({'apple': 3, 'banana': 2, 'orange': 1})\n"
     ]
    }
   ],
   "source": [
    "text = \"apple banana apple orange banana apple\"\n",
    "counter = Counter(text.split())\n",
    "print(counter)  # Counter({'apple': 3, 'banana': 2, 'orange': 1})"
   ]
  },
  {
   "cell_type": "markdown",
   "id": "40fe3100",
   "metadata": {},
   "source": [
    "### most_common([n]) — 获取最常见元素"
   ]
  },
  {
   "cell_type": "code",
   "execution_count": 22,
   "id": "4bb2289f",
   "metadata": {},
   "outputs": [
    {
     "name": "stdout",
     "output_type": "stream",
     "text": [
      "Counter({'a': 3, 'n': 2, 'e': 2, 'b': 1, 't': 1, 'r': 1})\n",
      "[('a', 3), ('n', 2), ('e', 2)]\n",
      "e\n",
      "<class 'tuple'>\n"
     ]
    }
   ],
   "source": [
    "from collections import Counter\n",
    "\n",
    "c = Counter(\"bananatree\")\n",
    "print(c)\n",
    "print(c.most_common(3))\n",
    "print(c.most_common(3)[-1][0]) # 获取第三大的value对应的key\n",
    "print(type(c.most_common(3)[0]))"
   ]
  },
  {
   "cell_type": "markdown",
   "id": "82878772",
   "metadata": {},
   "source": [
    "### elements() — 将元素按出现次数展开成可迭代对象"
   ]
  },
  {
   "cell_type": "code",
   "execution_count": 9,
   "id": "be2509f7",
   "metadata": {},
   "outputs": [
    {
     "name": "stdout",
     "output_type": "stream",
     "text": [
      "['a', 'a', 'b']\n"
     ]
    }
   ],
   "source": [
    "c = Counter({'a': 2, 'b': 1})\n",
    "print(list(c.elements()))  # ['a', 'a', 'b']"
   ]
  },
  {
   "cell_type": "markdown",
   "id": "07aa205d",
   "metadata": {},
   "source": [
    "### update() — 类似 dict.update()，但会自动加上数量"
   ]
  },
  {
   "cell_type": "code",
   "execution_count": 11,
   "id": "59062b1d",
   "metadata": {},
   "outputs": [
    {
     "name": "stdout",
     "output_type": "stream",
     "text": [
      "Counter({'p': 3, 'a': 2, 'e': 2, 'l': 1, 'r': 1})\n"
     ]
    }
   ],
   "source": [
    "c = Counter(\"apple\")\n",
    "c.update(\"pear\")\n",
    "print(c)  # Counter({'p': 2, 'a': 2, 'l': 1, 'e': 2, 'r': 1})"
   ]
  },
  {
   "cell_type": "markdown",
   "id": "21cfdb7c",
   "metadata": {},
   "source": [
    "### subtract() — 和 update() 相反，减少计数"
   ]
  },
  {
   "cell_type": "code",
   "execution_count": 12,
   "id": "65540968",
   "metadata": {},
   "outputs": [
    {
     "name": "stdout",
     "output_type": "stream",
     "text": [
      "Counter({'a': 1, 'p': 1, 'e': 1, 'l': 0})\n"
     ]
    }
   ],
   "source": [
    "c = Counter(\"apple\")\n",
    "c.subtract(\"pl\")\n",
    "print(c)  # Counter({'a': 1, 'p': 1, 'l': 0, 'e': 1})"
   ]
  },
  {
   "cell_type": "markdown",
   "id": "4f45d648",
   "metadata": {},
   "source": [
    "### 数学操作：+, -, &, |"
   ]
  },
  {
   "cell_type": "code",
   "execution_count": 13,
   "id": "66905ad7",
   "metadata": {},
   "outputs": [
    {
     "name": "stdout",
     "output_type": "stream",
     "text": [
      "Counter({'a': 4, 'b': 3, 'c': 1})\n",
      "Counter({'a': 2})\n",
      "Counter({'a': 1, 'b': 1})\n",
      "Counter({'a': 3, 'b': 2, 'c': 1})\n"
     ]
    }
   ],
   "source": [
    "c1 = Counter(a=3, b=1)\n",
    "c2 = Counter(a=1, b=2, c=1)\n",
    "print(c1 + c2)  # Counter({'a': 4, 'b': 3, 'c': 1})\n",
    "print(c1 - c2)  # Counter({'a': 2})\n",
    "print(c1 & c2)  # Counter({'a': 1, 'b': 1})\n",
    "print(c1 | c2)  # Counter({'a': 3, 'b': 2, 'c': 1})"
   ]
  },
  {
   "cell_type": "markdown",
   "id": "0e4110c5",
   "metadata": {},
   "source": [
    "### c.clear()         # 清空计数器"
   ]
  },
  {
   "cell_type": "code",
   "execution_count": 15,
   "id": "db91fe7a",
   "metadata": {},
   "outputs": [],
   "source": [
    "c = Counter({'a': 1})  # 直接初始化"
   ]
  },
  {
   "cell_type": "code",
   "execution_count": 16,
   "id": "c7515cbe",
   "metadata": {},
   "outputs": [
    {
     "data": {
      "text/plain": [
       "{'a': 1}"
      ]
     },
     "execution_count": 16,
     "metadata": {},
     "output_type": "execute_result"
    }
   ],
   "source": [
    "dict(c)  # 可以转换为普通字典"
   ]
  },
  {
   "cell_type": "markdown",
   "id": "a3ecadda",
   "metadata": {},
   "source": [
    "### 集合之间比大小"
   ]
  },
  {
   "cell_type": "code",
   "execution_count": 5,
   "id": "05b8fd74",
   "metadata": {},
   "outputs": [
    {
     "name": "stdout",
     "output_type": "stream",
     "text": [
      "True\n"
     ]
    }
   ],
   "source": [
    "from collections import Counter\n",
    "\n",
    "c1 = Counter(a=1, b=3, c=2)\n",
    "c2 = Counter(a=1, b=2, c=1)\n",
    "\n",
    "print(c2 <= c1)  # True  -- 所有元素的计数都小于等于 c1\n"
   ]
  },
  {
   "cell_type": "code",
   "execution_count": null,
   "id": "fe1f391d",
   "metadata": {},
   "outputs": [],
   "source": []
  }
 ],
 "metadata": {
  "kernelspec": {
   "display_name": "Python 3",
   "language": "python",
   "name": "python3"
  },
  "language_info": {
   "codemirror_mode": {
    "name": "ipython",
    "version": 3
   },
   "file_extension": ".py",
   "mimetype": "text/x-python",
   "name": "python",
   "nbconvert_exporter": "python",
   "pygments_lexer": "ipython3",
   "version": "3.12.3"
  }
 },
 "nbformat": 4,
 "nbformat_minor": 5
}
