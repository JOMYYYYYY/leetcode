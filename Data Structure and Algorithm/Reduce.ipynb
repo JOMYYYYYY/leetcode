{
 "cells": [
  {
   "cell_type": "markdown",
   "id": "96642043",
   "metadata": {},
   "source": [
    "# Reduce"
   ]
  },
  {
   "cell_type": "markdown",
   "id": "171b7f76",
   "metadata": {},
   "source": [
    "`functools.reduce` 在 Python 里是一个 **高阶函数**，它会把一个二元函数（接收两个参数的函数）依次作用到一个序列（list、tuple、iterable）上，从而把整个序列“归约”为一个值。\n",
    "\n",
    "它的定义大致是：\n",
    "\n",
    "```python\n",
    "reduce(function, iterable[, initializer])\n",
    "```\n",
    "\n",
    "* **function**：一个接收两个参数的函数，例如 `lambda x, y: x + y`\n",
    "* **iterable**：要遍历的可迭代对象\n",
    "* **initializer**（可选）：初始值，如果提供，则会作为第一个参数参与计算\n",
    "\n",
    "---\n"
   ]
  },
  {
   "cell_type": "code",
   "execution_count": 5,
   "id": "14ee768f",
   "metadata": {},
   "outputs": [
    {
     "name": "stdout",
     "output_type": "stream",
     "text": [
      "15\n"
     ]
    }
   ],
   "source": [
    "from functools import reduce\n",
    "\n",
    "nums = [1, 2, 3, 4, 5]   # 这是数据来源\n",
    "result = reduce(lambda x, y: x + y, nums)  # reduce 对 nums 做归约\n",
    "print(result)  # 15"
   ]
  },
  {
   "cell_type": "code",
   "execution_count": 4,
   "id": "e2a492cf",
   "metadata": {},
   "outputs": [
    {
     "name": "stdout",
     "output_type": "stream",
     "text": [
      "120\n"
     ]
    }
   ],
   "source": [
    "nums = [1, 2, 3, 4, 5]\n",
    "result = reduce(lambda x, y: x * y, nums)\n",
    "print(result)  # 120"
   ]
  },
  {
   "cell_type": "code",
   "execution_count": 6,
   "id": "788b4f2e",
   "metadata": {},
   "outputs": [
    {
     "name": "stdout",
     "output_type": "stream",
     "text": [
      "9\n"
     ]
    }
   ],
   "source": [
    "nums = [7, 2, 9, 4, 1]\n",
    "max_val = reduce(lambda x, y: x if x > y else y, nums)\n",
    "print(max_val)  # 9\n"
   ]
  },
  {
   "cell_type": "code",
   "execution_count": 7,
   "id": "b8b1ff85",
   "metadata": {},
   "outputs": [
    {
     "name": "stdout",
     "output_type": "stream",
     "text": [
      "Python is fun\n"
     ]
    }
   ],
   "source": [
    "words = [\"Python\", \"is\", \"fun\"]\n",
    "sentence = reduce(lambda x, y: x + \" \" + y, words)\n",
    "print(sentence)  # \"Python is fun\"\n"
   ]
  },
  {
   "cell_type": "code",
   "execution_count": 8,
   "id": "4d9c128a",
   "metadata": {},
   "outputs": [
    {
     "name": "stdout",
     "output_type": "stream",
     "text": [
      "16\n"
     ]
    }
   ],
   "source": [
    "nums = [1, 2, 3]\n",
    "result = reduce(lambda x, y: x + y, nums, 10)\n",
    "print(result)  # 16 (10 + 1 + 2 + 3)\n"
   ]
  },
  {
   "cell_type": "code",
   "execution_count": 10,
   "id": "daf0e508",
   "metadata": {},
   "outputs": [
    {
     "name": "stdout",
     "output_type": "stream",
     "text": [
      "Counter({'c': 2, 'b': 1})\n"
     ]
    }
   ],
   "source": [
    "# 916. 单词子集\n",
    "from collections import Counter\n",
    "from functools import reduce\n",
    "words2 = [\"c\",\"cc\",\"b\"]\n",
    "counter = reduce(lambda x, y: x|y, (Counter(w) for w in words2), Counter()) # reduce的参数有三部分：1. 每一小步的lambda表达式 2. 可遍历的对象 3. 迭代的初始值\n",
    "print(counter)"
   ]
  },
  {
   "cell_type": "code",
   "execution_count": null,
   "id": "f64fdcba",
   "metadata": {},
   "outputs": [],
   "source": []
  }
 ],
 "metadata": {
  "kernelspec": {
   "display_name": "Python 3",
   "language": "python",
   "name": "python3"
  },
  "language_info": {
   "codemirror_mode": {
    "name": "ipython",
    "version": 3
   },
   "file_extension": ".py",
   "mimetype": "text/x-python",
   "name": "python",
   "nbconvert_exporter": "python",
   "pygments_lexer": "ipython3",
   "version": "3.12.3"
  }
 },
 "nbformat": 4,
 "nbformat_minor": 5
}
