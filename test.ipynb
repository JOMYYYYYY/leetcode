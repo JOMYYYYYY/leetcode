{
 "cells": [
  {
   "cell_type": "code",
   "execution_count": 2,
   "id": "6a8ba035",
   "metadata": {},
   "outputs": [
    {
     "data": {
      "text/plain": [
       "[0, 2]"
      ]
     },
     "execution_count": 2,
     "metadata": {},
     "output_type": "execute_result"
    }
   ],
   "source": [
    "a = [0,1,2]\n",
    "a.remove(1)\n",
    "a"
   ]
  },
  {
   "cell_type": "code",
   "execution_count": 11,
   "id": "1553eeaa",
   "metadata": {},
   "outputs": [
    {
     "name": "stdout",
     "output_type": "stream",
     "text": [
      "['1', '2', '3', '4']\n"
     ]
    },
    {
     "data": {
      "text/plain": [
       "['1234',\n",
       " '1243',\n",
       " '1324',\n",
       " '1342',\n",
       " '1423',\n",
       " '1432',\n",
       " '2134',\n",
       " '2143',\n",
       " '2314',\n",
       " '2341',\n",
       " '2413',\n",
       " '2431',\n",
       " '3124',\n",
       " '3142',\n",
       " '3214',\n",
       " '3241',\n",
       " '3412',\n",
       " '3421',\n",
       " '4123',\n",
       " '4132',\n",
       " '4213',\n",
       " '4231',\n",
       " '4312',\n",
       " '4321']"
      ]
     },
     "execution_count": 11,
     "metadata": {},
     "output_type": "execute_result"
    }
   ],
   "source": [
    "n = 4\n",
    "potencial_char = [str(i) for i in range(1, n+1)]\n",
    "\n",
    "def manage(potencial_char) -> list[int]:\n",
    "    if len(potencial_char) == 1:\n",
    "        return [potencial_char[0]]\n",
    "    else:\n",
    "        ans = []\n",
    "        for index, char in enumerate(potencial_char):\n",
    "            temp = potencial_char[:]\n",
    "            selected_char = char\n",
    "            temp.pop(index)\n",
    "            rest_part_of_list = temp\n",
    "            sub_ans = manage(rest_part_of_list)\n",
    "            # print(sub_ans)\n",
    "            for item in sub_ans:\n",
    "                ans.append(selected_char + item)\n",
    "        \n",
    "        return ans\n",
    "\n",
    "print(potencial_char)\n",
    "manage(potencial_char)"
   ]
  }
 ],
 "metadata": {
  "kernelspec": {
   "display_name": "Python 3",
   "language": "python",
   "name": "python3"
  },
  "language_info": {
   "codemirror_mode": {
    "name": "ipython",
    "version": 3
   },
   "file_extension": ".py",
   "mimetype": "text/x-python",
   "name": "python",
   "nbconvert_exporter": "python",
   "pygments_lexer": "ipython3",
   "version": "3.12.3"
  }
 },
 "nbformat": 4,
 "nbformat_minor": 5
}
