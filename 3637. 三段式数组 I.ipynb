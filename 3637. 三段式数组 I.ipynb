{
 "cells": [
  {
   "cell_type": "code",
   "execution_count": 5,
   "id": "146f39f5",
   "metadata": {},
   "outputs": [
    {
     "name": "stdout",
     "output_type": "stream",
     "text": [
      "True\n",
      "False\n"
     ]
    }
   ],
   "source": [
    "class Solution:\n",
    "    def isTrionic(self, nums: list[int]) -> bool:\n",
    "        \n",
    "        def check_up(l: list[int]) -> bool:\n",
    "            # len(l) >= 2\n",
    "            for a, b in zip(l, l[1: ]):\n",
    "                if a >= b:\n",
    "                    return False\n",
    "            \n",
    "            return True\n",
    "\n",
    "        def check_down(l: list[int]) -> bool:\n",
    "            # len(l) >= 2\n",
    "            for a, b in zip(l, l[1: ]):\n",
    "                if a <= b:\n",
    "                    return False\n",
    "            \n",
    "            return True\n",
    "        \n",
    "        for p in range(1, len(nums)-2):\n",
    "            for q in range(p + 1, len(nums)-1):\n",
    "                A = nums[: p+1]\n",
    "                B = nums[p: q+1]\n",
    "                C = nums[q: ]\n",
    "                if check_up(A) and check_down(B) and check_up(C):\n",
    "                    return True\n",
    "        \n",
    "        return False\n",
    "    \n",
    "\n",
    "# test\n",
    "sol = Solution()\n",
    "print(sol.isTrionic([1,3,5,4,2,6]))\n",
    "print(sol.isTrionic([2,1,3]))"
   ]
  }
 ],
 "metadata": {
  "kernelspec": {
   "display_name": "Python 3",
   "language": "python",
   "name": "python3"
  },
  "language_info": {
   "codemirror_mode": {
    "name": "ipython",
    "version": 3
   },
   "file_extension": ".py",
   "mimetype": "text/x-python",
   "name": "python",
   "nbconvert_exporter": "python",
   "pygments_lexer": "ipython3",
   "version": "3.12.3"
  }
 },
 "nbformat": 4,
 "nbformat_minor": 5
}
