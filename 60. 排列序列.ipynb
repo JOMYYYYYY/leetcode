{
 "cells": [
  {
   "cell_type": "code",
   "execution_count": null,
   "id": "0f80db09",
   "metadata": {},
   "outputs": [],
   "source": []
  },
  {
   "cell_type": "code",
   "execution_count": null,
   "id": "f7e6420b",
   "metadata": {},
   "outputs": [],
   "source": []
  },
  {
   "cell_type": "code",
   "execution_count": null,
   "id": "a86070ab",
   "metadata": {},
   "outputs": [],
   "source": []
  },
  {
   "cell_type": "code",
   "execution_count": null,
   "id": "9b4fda6b",
   "metadata": {},
   "outputs": [],
   "source": []
  },
  {
   "cell_type": "code",
   "execution_count": null,
   "id": "a27b3d90",
   "metadata": {},
   "outputs": [],
   "source": [
    "# time error\n",
    "\n",
    "class Solution:\n",
    "    def getPermutation(self, n: int, k: int) -> str:\n",
    "        \n",
    "        # 1 得到全排列 list of string\n",
    "        # 2 定义函数 把string 转换成对应的 int\n",
    "        # 3 Dictionary comprehension : int -> string\n",
    "        # 4 得到第k小的value\n",
    "\n",
    "        my_string = []\n",
    "\n",
    "        potencial_char = [str(i) for i in range(1, n+1)]\n",
    "\n",
    "        def manage(potencial_char) -> list[int]:\n",
    "            if len(potencial_char) == 1:\n",
    "                return [potencial_char[0]]\n",
    "            else:\n",
    "                ans = []\n",
    "\n",
    "                for index, char in enumerate(potencial_char):\n",
    "                    selected_char = char\n",
    "                    sub_ans = manage(potencial_char[: index] + potencial_char[index+1: ])\n",
    "                    # print(sub_ans)\n",
    "                    for item in sub_ans:\n",
    "                        ans.append(selected_char + item)\n",
    "                return ans\n",
    "\n",
    "\n",
    "        return manage(potencial_char)[k-1]"
   ]
  },
  {
   "cell_type": "code",
   "execution_count": 12,
   "id": "4a75c7d3",
   "metadata": {},
   "outputs": [
    {
     "name": "stdout",
     "output_type": "stream",
     "text": [
      "213\n",
      "2314\n",
      "123\n",
      "13576428\n",
      "124687539\n"
     ]
    }
   ],
   "source": [
    "# test\n",
    "\n",
    "sol = Solution()\n",
    "print(sol.getPermutation(n=3, k=3)) # 231\n",
    "print(sol.getPermutation(n=4, k=9)) # 2314\n",
    "print(sol.getPermutation(n=3, k=1)) # 123\n",
    "print(sol.getPermutation(n=8, k=1047)) # \n",
    "print(sol.getPermutation(n=9, k=1047)) # "
   ]
  },
  {
   "cell_type": "code",
   "execution_count": null,
   "id": "ab37d996",
   "metadata": {},
   "outputs": [],
   "source": []
  }
 ],
 "metadata": {
  "kernelspec": {
   "display_name": "Python 3",
   "language": "python",
   "name": "python3"
  },
  "language_info": {
   "codemirror_mode": {
    "name": "ipython",
    "version": 3
   },
   "file_extension": ".py",
   "mimetype": "text/x-python",
   "name": "python",
   "nbconvert_exporter": "python",
   "pygments_lexer": "ipython3",
   "version": "3.12.3"
  }
 },
 "nbformat": 4,
 "nbformat_minor": 5
}
