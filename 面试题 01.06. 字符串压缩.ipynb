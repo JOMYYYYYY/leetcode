{
 "cells": [
  {
   "cell_type": "code",
   "execution_count": 7,
   "id": "8d32011f",
   "metadata": {},
   "outputs": [
    {
     "name": "stdout",
     "output_type": "stream",
     "text": [
      "aa bcccccaaa\n"
     ]
    }
   ],
   "source": [
    "def string_split(input_string: str) -> list[str]:\n",
    "    ans = []\n",
    "    if len(input_string) == 0:\n",
    "        return [\"\", \"\"]\n",
    "    elif len(input_string) == 1:\n",
    "        return [input_string, \"\"]\n",
    "    else:\n",
    "        first = input_string[0]\n",
    "        second = \"\"\n",
    "        index = 1\n",
    "        while index < len(input_string):\n",
    "            if input_string[index] == first[-1]:\n",
    "                first += first[-1]\n",
    "                index += 1\n",
    "            else:\n",
    "                second = input_string[index: ]\n",
    "                break\n",
    "        \n",
    "        return [first, second]\n",
    "    \n",
    "\n",
    "a, b = string_split(\"aabcccccaaa\")\n",
    "print(a, b)"
   ]
  },
  {
   "cell_type": "code",
   "execution_count": 3,
   "id": "011c29ee",
   "metadata": {},
   "outputs": [
    {
     "data": {
      "text/plain": [
       "['b', 'cccccaaa']"
      ]
     },
     "execution_count": 3,
     "metadata": {},
     "output_type": "execute_result"
    }
   ],
   "source": [
    "string_split('bcccccaaa')"
   ]
  },
  {
   "cell_type": "code",
   "execution_count": 5,
   "id": "516763c4",
   "metadata": {},
   "outputs": [
    {
     "data": {
      "text/plain": [
       "['aaa', '']"
      ]
     },
     "execution_count": 5,
     "metadata": {},
     "output_type": "execute_result"
    }
   ],
   "source": [
    "string_split('aaa')"
   ]
  }
 ],
 "metadata": {
  "kernelspec": {
   "display_name": "Python 3",
   "language": "python",
   "name": "python3"
  },
  "language_info": {
   "codemirror_mode": {
    "name": "ipython",
    "version": 3
   },
   "file_extension": ".py",
   "mimetype": "text/x-python",
   "name": "python",
   "nbconvert_exporter": "python",
   "pygments_lexer": "ipython3",
   "version": "3.12.3"
  }
 },
 "nbformat": 4,
 "nbformat_minor": 5
}
