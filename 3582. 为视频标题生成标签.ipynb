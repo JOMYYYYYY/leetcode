{
 "cells": [
  {
   "cell_type": "code",
   "execution_count": 14,
   "id": "4867f52b",
   "metadata": {},
   "outputs": [],
   "source": [
    "caption = \"Leetcode daily streak achieved\""
   ]
  },
  {
   "cell_type": "code",
   "execution_count": 15,
   "id": "84eb7a05",
   "metadata": {},
   "outputs": [],
   "source": [
    "my_list = caption.split(\" \")"
   ]
  },
  {
   "cell_type": "code",
   "execution_count": 16,
   "id": "ab80d168",
   "metadata": {},
   "outputs": [],
   "source": [
    "my_list = [i.capitalize() for i in my_list]"
   ]
  },
  {
   "cell_type": "code",
   "execution_count": 17,
   "id": "62c94431",
   "metadata": {},
   "outputs": [],
   "source": [
    "my_list.insert(0, '#')"
   ]
  },
  {
   "cell_type": "code",
   "execution_count": 18,
   "id": "999d3ada",
   "metadata": {},
   "outputs": [],
   "source": [
    "ans = \"\".join(my_list)"
   ]
  },
  {
   "cell_type": "code",
   "execution_count": 19,
   "id": "c2fa4232",
   "metadata": {},
   "outputs": [
    {
     "data": {
      "text/plain": [
       "'#LeetcodeDailyStreakAchieved'"
      ]
     },
     "execution_count": 19,
     "metadata": {},
     "output_type": "execute_result"
    }
   ],
   "source": [
    "ans"
   ]
  }
 ],
 "metadata": {
  "kernelspec": {
   "display_name": "Python 3",
   "language": "python",
   "name": "python3"
  },
  "language_info": {
   "codemirror_mode": {
    "name": "ipython",
    "version": 3
   },
   "file_extension": ".py",
   "mimetype": "text/x-python",
   "name": "python",
   "nbconvert_exporter": "python",
   "pygments_lexer": "ipython3",
   "version": "3.12.3"
  }
 },
 "nbformat": 4,
 "nbformat_minor": 5
}
