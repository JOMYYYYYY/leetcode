{
 "cells": [
  {
   "cell_type": "code",
   "execution_count": 7,
   "id": "ee031896",
   "metadata": {},
   "outputs": [],
   "source": [
    "class Solution:\n",
    "    def canMakeEqual(self, nums: list[int], k: int) -> bool:\n",
    "        def check(target: int) -> bool:\n",
    "            n = len(nums)\n",
    "            new_nums = nums[:]\n",
    "            left = k\n",
    "            for index, number in enumerate(nums):\n",
    "                if number == target: # 不需要操作\n",
    "                    continue\n",
    "                if left == 0 or index == n - 1:\n",
    "                    return False\n",
    "                else:\n",
    "                    left -= 1\n",
    "                    new_nums[index + 1] *= -1\n",
    "            return True\n",
    "        \n",
    "        return check(1) or check(-1)"
   ]
  },
  {
   "cell_type": "code",
   "execution_count": 8,
   "id": "393ce43e",
   "metadata": {},
   "outputs": [
    {
     "data": {
      "text/plain": [
       "False"
      ]
     },
     "execution_count": 8,
     "metadata": {},
     "output_type": "execute_result"
    }
   ],
   "source": [
    "# test\n",
    "sol = Solution()\n",
    "sol.canMakeEqual([-1,1,1,-1,-1,-1,1,1,-1,-1,1,1,1,1,-1,-1], 3)"
   ]
  }
 ],
 "metadata": {
  "kernelspec": {
   "display_name": "Python 3",
   "language": "python",
   "name": "python3"
  },
  "language_info": {
   "codemirror_mode": {
    "name": "ipython",
    "version": 3
   },
   "file_extension": ".py",
   "mimetype": "text/x-python",
   "name": "python",
   "nbconvert_exporter": "python",
   "pygments_lexer": "ipython3",
   "version": "3.12.3"
  }
 },
 "nbformat": 4,
 "nbformat_minor": 5
}
